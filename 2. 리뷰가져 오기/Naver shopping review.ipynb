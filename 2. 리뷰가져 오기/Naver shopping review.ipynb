{
 "cells": [
  {
   "cell_type": "code",
   "execution_count": 38,
   "metadata": {},
   "outputs": [],
   "source": [
    "from selenium import webdriver\n",
    "from selenium.webdriver.common.keys import Keys\n",
    "from bs4 import BeautifulSoup\n",
    "from time import sleep\n",
    "import requests\n",
    "import re\n",
    "import pandas as pd\n",
    "import numpy as np\n",
    "import os\n",
    "import pandas as pd\n",
    "\n",
    "import warnings\n",
    "warnings.filterwarnings('ignore')"
   ]
  },
  {
   "cell_type": "code",
   "execution_count": 61,
   "metadata": {},
   "outputs": [],
   "source": [
    "name=['LG 에어로타워']\n",
    "category=['별점']\n",
    "\n",
    "#LG 에어로타워 후기\n",
    "ns_address=\"https://search.shopping.naver.com/catalog/30128278618?cat_id=50002543&frm=NVSCPRO&query=%EC%97%90%EC%96%B4%EB%A1%9C%ED%83%80%EC%9B%8C&NaPm=ct%3Dl0ksn0vc%7Cci%3D5bbd25c0299ce5dbcb72ff2b1d41488ebd6d52ce%7Ctr%3Dsls%7Csn%3D95694%7Chk%3D87194ce8ced4cb2b52968022b8eb9db67602d12e\"\n",
    "\n",
    "\n",
    "#xpath\n",
    "shoppingmall_review = \"/html/body/div/div/div[2]/div[2]/div[2]/div[3]/div[6]/div[2]/div[2]/div/ul/li[4]/a\""
   ]
  },
  {
   "cell_type": "code",
   "execution_count": 66,
   "metadata": {},
   "outputs": [
    {
     "name": "stdout",
     "output_type": "stream",
     "text": [
      "먼지 알러지가 있는 저에게는 필수 아이템이네요. 한달\n",
      "먼지 알러지가 있는 저에게는 필수 아이템이네요. 한달 정도 사용한 후기 남깁니다.\n",
      "1. 공간을 많이 차지하지 않고, 앞으로 나오는 바람 위로 나오는 바람 조절 가능\n",
      "2. 이방 저방 들고 다니기에는 많이 무거움\n",
      "3. 온풍기능은 다른 온풍기랑 비슷하고, 전기세는하루 2시간 정도 온풍 사용하면 약 3킬로와트(약 600원, 350~400킬로와트 사용 가정집 기준) 정도 사용\n",
      "4. 보일러 난방 올라오기전 실내 빨리 따뜻하게 하기에는 좋음\n",
      "5. 방은 금방 따뜻해지나, 거실은 1시간 정도는 사용해야 따뜻해짐\n",
      "6. 초음파 방식 가습기랑 옆에 같이 사용하면 미네랄이 필터에 쌓여 온풍 기능이 먹통이됨 (홈페이지에 대처방법 나와있음)\n",
      "7. 어플 연동이 잘되어 있어서 핸드폰으로 . (집밖에서도 조작 가능)\n",
      "8. 샀으니깐 그냥 쓸만한 물건이다 정도?\n"
     ]
    }
   ],
   "source": [
    "header = {'User-Agent': ''}\n",
    "d = webdriver.Chrome('chromedriver.exe') # webdriver = chrome\n",
    "d.implicitly_wait(3) #隐形等待， 加载完后进入， 没加载完报错超市\n",
    "d.get(ns_address)\n",
    "req = requests.get(ns_address,verify=False)\n",
    "html = req.text \n",
    "soup = BeautifulSoup(html, \"html.parser\")\n",
    "sleep(3)\n",
    "\n",
    "\n",
    "#쇼핑몰 리뷰 보기\n",
    "d.find_element(\"xpath\", shoppingmall_review).click()\n",
    "sleep(2)\n",
    "\n",
    "\n",
    "# 리뷰 가져오기\n",
    "start = d.find_element(\"xpath\", '/html/body/div/div/div[2]/div[2]/div[2]/div[3]/div[6]/ul/li[1]/div[2]/div/em').text\n",
    "end = d.find_element(\"xpath\", '/html/body/div/div/div[2]/div[2]/div[2]/div[3]/div[6]/ul/li[1]/div[2]/div[1]/p').text\n",
    "print(start)\n",
    "print(end)\n",
    "\n",
    "start = d.find_element(\"xpath\", '/html/body/div/div/div[2]/div[2]/div[2]/div[3]/div[6]/ul/li[2]/div[2]/div/em').text\n"
   ]
  },
  {
   "cell_type": "code",
   "execution_count": null,
   "metadata": {},
   "outputs": [],
   "source": [
    "/html/body/div/div/div[2]/div[2]/div[2]/div[3]/div[6]/ul/li[1]/div[3]/a"
   ]
  }
 ],
 "metadata": {
  "kernelspec": {
   "display_name": "base",
   "language": "python",
   "name": "python3"
  },
  "language_info": {
   "codemirror_mode": {
    "name": "ipython",
    "version": 3
   },
   "file_extension": ".py",
   "mimetype": "text/x-python",
   "name": "python",
   "nbconvert_exporter": "python",
   "pygments_lexer": "ipython3",
   "version": "3.9.7"
  },
  "orig_nbformat": 4,
  "vscode": {
   "interpreter": {
    "hash": "e4cce46d6be9934fbd27f9ca0432556941ea5bdf741d4f4d64c6cd7f8dfa8fba"
   }
  }
 },
 "nbformat": 4,
 "nbformat_minor": 2
}
