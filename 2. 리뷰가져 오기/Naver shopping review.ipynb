{
 "cells": [
  {
   "cell_type": "code",
   "execution_count": 38,
   "metadata": {},
   "outputs": [],
   "source": [
    "from selenium import webdriver\n",
    "from selenium.webdriver.common.keys import Keys\n",
    "from bs4 import BeautifulSoup\n",
    "from time import sleep\n",
    "import requests\n",
    "import re\n",
    "import pandas as pd\n",
    "import numpy as np\n",
    "import os\n",
    "import pandas as pd\n",
    "\n",
    "import warnings\n",
    "warnings.filterwarnings('ignore')"
   ]
  },
  {
   "cell_type": "code",
   "execution_count": 61,
   "metadata": {},
   "outputs": [],
   "source": [
    "name=['LG 에어로타워']\n",
    "category=['별점']\n",
    "\n",
    "#LG 에어로타워 후기\n",
    "ns_address=\"https://search.shopping.naver.com/catalog/30128278618?cat_id=50002543&frm=NVSCPRO&query=%EC%97%90%EC%96%B4%EB%A1%9C%ED%83%80%EC%9B%8C&NaPm=ct%3Dl0ksn0vc%7Cci%3D5bbd25c0299ce5dbcb72ff2b1d41488ebd6d52ce%7Ctr%3Dsls%7Csn%3D95694%7Chk%3D87194ce8ced4cb2b52968022b8eb9db67602d12e\"\n",
    "\n",
    "\n",
    "#xpath\n",
    "shoppingmall_review = \"/html/body/div/div/div[2]/div[2]/div[2]/div[3]/div[6]/div[2]/div[2]/div/ul/li[4]/a\""
   ]
  },
  {
   "cell_type": "code",
   "execution_count": 76,
   "metadata": {},
   "outputs": [
    {
     "name": "stdout",
     "output_type": "stream",
     "text": [
      "3\n",
      "저렴하게 잘샀구요 곧 태어날 아가를 위해 장만 했어요\n",
      "저렴하게 잘샀구요 곧 태어날 아가를 위해 장만 했어요\n",
      "공기청정기 처음써보는거라 잘모르겟지만 기분탓인지 뭔가 쾌적해진 기분이에요 디자인도 넘예쁘규 잘 산것 같아요\n",
      "\n",
      "4\n",
      "많이 늦어질 줄 알았는데\n",
      "주문 후\n",
      "많이 늦어질 줄 알았는데\n",
      "주문 후 6일만에 도착했네요\n",
      "하이마트가 할인도 많고\n",
      "쿠폰도 포인트도 쓸 수 있고\n",
      "카드 할인까지 활용할 수 있어서\n",
      "\n",
      "5\n",
      "가격 저렴하게 사서 기분이 좋네\n",
      "가격 저렴하게 사서 기분이 좋네요\n",
      "디자인두 이뻐서 맘에들어요 매장서는 뭐 다르게 있겠지만130만정도여서 눈팅만하고 왔거든요 잘 쓸께요\n",
      "\n",
      "6\n",
      "저렴하게 판매해주셔서 감사해요잘 사용하고 있어요배송 정말 빠르고 상품 좋네요:)온풍기 요금 표시에 많이 놀랐지만 자주 사용하지 않으니까 괜찮을 것같아요번창하세요!\n",
      "저렴하게 판매해주셔서 감사해요\n",
      "잘 사용하고 있어요\n",
      "배송 정말 빠르고 상품 좋네요:)\n",
      "온풍기 요금 표시에 많이 놀랐지만\n",
      "자주 사용하지 않으니까 괜찮을 것같아요\n",
      "!\n",
      "\n",
      "7\n",
      "온풍 겸용이라고 해서 구매한건데받고 온충 전기세 보고 놀라 두번 사용하고 공기청정만 사용하고있어요 ㅎㅎ그래도 저렴하게 잘 구매해서 좋습니다디자인도 예쁘고 기능도 좋아요가전은 역시\n",
      "온풍 겸용이라고 해서 구매한건데\n",
      "받고 온충 전기세 보고 놀라 두번 사용하고 공기청정만 사용하고있어요 ㅎㅎ\n",
      "그래도 저렴하게 잘 구매해서 좋습니다\n",
      "디자인도 예쁘고 기능도 좋아요\n",
      "가전은 역시 엘지네요\n",
      "\n",
      "8\n",
      "가격도 저렴하고 배송도 빠릅니다\n",
      "사계절용으로 구입했어요 정말 멋져요 가격 비교 시 제일 저렴했어요 인테리어 효과도 있고 고급스럽게 보여요 주문하고 이틀 뒤 받았습니다\n",
      "\n",
      "9\n",
      "예약된 날짜에 정확히 배송해 주\n",
      "예약된 날짜에 정확히 배송해 주셨네요\n",
      "작동 잘되고…온풍도 생각보다 빨리 따뜻해지네요\n",
      "좋은가격에 잘 구매했습니다.\n",
      "\n"
     ]
    }
   ],
   "source": [
    "header = {'User-Agent': ''}\n",
    "d = webdriver.Chrome('chromedriver.exe') # webdriver = chrome\n",
    "d.implicitly_wait(3) #隐形等待， 加载完后进入， 没加载完报错超市\n",
    "d.get(ns_address)\n",
    "req = requests.get(ns_address,verify=False)\n",
    "html = req.text \n",
    "soup = BeautifulSoup(html, \"html.parser\")\n",
    "sleep(3)\n",
    "\n",
    "\n",
    "#쇼핑몰 리뷰 보기\n",
    "d.find_element(\"xpath\", shoppingmall_review).click()\n",
    "sleep(2)\n",
    "\n",
    "\n",
    "# 리뷰 가져오기\n",
    "for i in range(3, 10):\n",
    "    start = d.find_element(\"xpath\", '/html/body/div/div/div[2]/div[2]/div[2]/div[3]/div[6]/ul/li['+str(i)+']/div[2]/div/em').text\n",
    "    end = d.find_element(\"xpath\",   '/html/body/div/div/div[2]/div[2]/div[2]/div[3]/div[6]/ul/li['+str(i)+']/div[2]/div/p').text\n",
    "    print(i)\n",
    "    print(start)\n",
    "    print(end)\n",
    "    print()"
   ]
  }
 ],
 "metadata": {
  "kernelspec": {
   "display_name": "base",
   "language": "python",
   "name": "python3"
  },
  "language_info": {
   "codemirror_mode": {
    "name": "ipython",
    "version": 3
   },
   "file_extension": ".py",
   "mimetype": "text/x-python",
   "name": "python",
   "nbconvert_exporter": "python",
   "pygments_lexer": "ipython3",
   "version": "3.9.7"
  },
  "orig_nbformat": 4,
  "vscode": {
   "interpreter": {
    "hash": "e4cce46d6be9934fbd27f9ca0432556941ea5bdf741d4f4d64c6cd7f8dfa8fba"
   }
  }
 },
 "nbformat": 4,
 "nbformat_minor": 2
}
